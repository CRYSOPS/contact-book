{
  "nbformat": 4,
  "nbformat_minor": 0,
  "metadata": {
    "colab": {
      "name": "contact book 3.ipynb",
      "provenance": [],
      "collapsed_sections": [],
      "authorship_tag": "ABX9TyN3e8W9H2586hzJAdPjgNeX",
      "include_colab_link": true
    },
    "kernelspec": {
      "name": "python3",
      "display_name": "Python 3"
    },
    "language_info": {
      "name": "python"
    }
  },
  "cells": [
    {
      "cell_type": "markdown",
      "metadata": {
        "id": "view-in-github",
        "colab_type": "text"
      },
      "source": [
        "<a href=\"https://colab.research.google.com/github/CRYSOPS/contact-book/blob/main/contact_book_3.ipynb\" target=\"_parent\"><img src=\"https://colab.research.google.com/assets/colab-badge.svg\" alt=\"Open In Colab\"/></a>"
      ]
    },
    {
      "cell_type": "code",
      "source": [
        "names = []\n",
        "phone_numbers = []\n",
        "num = 5\n",
        "\n",
        "\n",
        "for i in range(num):\n",
        "    name = input(\"Name: \")\n",
        "    phone_number = input(\"Phone Number: \") # for convert to int => int(input(\"Phone Number: \"))\n",
        "\n",
        "    names.append(name)\n",
        "    phone_numbers.append(phone_number)\n",
        "\n",
        "print(\"\\nName\\t\\t\\tPhone Number\\n\")\n",
        "\n",
        "for i in range(num):\n",
        "    print(\"{}\\t\\t\\t{}\".format(names[i], phone_numbers[i]))\n",
        "\n",
        "search_term = input(\"\\nEnter search term: \")\n",
        "\n",
        "print(\"Search result:\")\n",
        "\n",
        "if search_term in names:\n",
        "    index = names.index(search_term)\n",
        "    phone_number = phone_numbers[index]\n",
        "    print(\"Name: {}, Phone Number: {}\".format(search_term, phone_number))\n",
        "\n",
        "else:\n",
        "    print(\"Name Not Found\")\n",
        "\n"
      ],
      "metadata": {
        "colab": {
          "base_uri": "https://localhost:8080/"
        },
        "id": "cOrZkB_kOVF4",
        "outputId": "c9c00826-fde6-4a22-b0fd-190c9b49e540"
      },
      "execution_count": null,
      "outputs": [
        {
          "output_type": "stream",
          "name": "stdout",
          "text": [
            "Name: jay\n",
            "Phone Number: 6541859674\n",
            "Name: aasif\n",
            "Phone Number: 8796857412\n",
            "Name: chinna\n",
            "Phone Number: 9674235841\n",
            "Name: kishore\n",
            "Phone Number: 8899775566\n",
            "Name: karthi\n",
            "Phone Number: 7896510367\n",
            "\n",
            "Name\t\t\tPhone Number\n",
            "\n",
            "jay\t\t\t6541859674\n",
            "aasif\t\t\t8796857412\n",
            "chinna\t\t\t9674235841\n",
            "kishore\t\t\t8899775566\n",
            "karthi\t\t\t7896510367\n",
            "\n",
            "Enter search term: jay\n",
            "Search result:\n",
            "Name: jay, Phone Number: 6541859674\n"
          ]
        }
      ]
    }
  ]
}